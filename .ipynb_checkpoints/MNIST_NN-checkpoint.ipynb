{
 "cells": [
  {
   "cell_type": "markdown",
   "metadata": {},
   "source": [
    "# MNIST prediction"
   ]
  },
  {
   "cell_type": "markdown",
   "metadata": {},
   "source": [
    "Robin Börjesson /\n",
    "2018-01-06"
   ]
  },
  {
   "cell_type": "markdown",
   "metadata": {},
   "source": [
    "## Import and load dataset"
   ]
  },
  {
   "cell_type": "code",
   "execution_count": 1,
   "metadata": {
    "collapsed": true
   },
   "outputs": [],
   "source": [
    "import numpy as np\n",
    "import pandas as pd\n",
    "import matplotlib.pyplot as plt\n",
    "from numpy import e\n",
    "import math\n",
    "import time\n",
    "from IPython import display\n",
    "%matplotlib inline"
   ]
  },
  {
   "cell_type": "code",
   "execution_count": 57,
   "metadata": {
    "collapsed": true
   },
   "outputs": [],
   "source": [
    "XTr = pd.read_pickle('XTr.pickle')\n",
    "XTe = pd.read_pickle('XTe.pickle')\n",
    "YTr = pd.read_pickle('YTr.pickle')\n",
    "YTe = pd.read_pickle('YTe.pickle')"
   ]
  },
  {
   "cell_type": "code",
   "execution_count": 58,
   "metadata": {},
   "outputs": [
    {
     "name": "stdout",
     "output_type": "stream",
     "text": [
      "(60000, 784) (60000, 1) (10000, 784) (10000, 1)\n"
     ]
    }
   ],
   "source": [
    "print(XTr.shape, YTr.shape, XTe.shape, YTe.shape)"
   ]
  },
  {
   "cell_type": "markdown",
   "metadata": {},
   "source": [
    "#### Since numpy arrays seems more similar to Octave matrices I will convert the dataframes to numpy arrays:"
   ]
  },
  {
   "cell_type": "code",
   "execution_count": 59,
   "metadata": {
    "collapsed": true
   },
   "outputs": [],
   "source": [
    "XTr = np.transpose(np.array(XTr))\n",
    "XTe = np.transpose(np.array(XTe))\n",
    "YTr = np.transpose(np.array(YTr))\n",
    "YTe = np.transpose(np.array(YTe))\n",
    "arr = np.arange(XTr.shape[1])\n",
    "np.random.shuffle(arr)\n",
    "XTr = XTr[:,arr] # Randomly reshuffle the order of the training examples\n",
    "YTr = YTr[:,arr] # Randomly reshuffle the order of the training labels"
   ]
  },
  {
   "cell_type": "markdown",
   "metadata": {},
   "source": [
    "#### Add bias elements for X-matrices:"
   ]
  },
  {
   "cell_type": "code",
   "execution_count": 60,
   "metadata": {
    "collapsed": true
   },
   "outputs": [],
   "source": [
    "XTr = np.insert(XTr, 0 , 1, axis=0) # Add a row of ones at the top of the matrix\n",
    "XTe = np.insert(XTe, 0 , 1, axis=0) # Add a row of ones at the top of the matrix"
   ]
  },
  {
   "cell_type": "code",
   "execution_count": 61,
   "metadata": {},
   "outputs": [
    {
     "name": "stdout",
     "output_type": "stream",
     "text": [
      "(785, 60000) (785, 10000) (1, 60000) (1, 10000)\n"
     ]
    }
   ],
   "source": [
    "print(XTr.shape, XTe.shape, YTr.shape, YTe.shape)"
   ]
  },
  {
   "cell_type": "markdown",
   "metadata": {},
   "source": [
    "### Define the sigmoid function:"
   ]
  },
  {
   "cell_type": "code",
   "execution_count": 62,
   "metadata": {
    "collapsed": true
   },
   "outputs": [],
   "source": [
    "def sigmoid(z):\n",
    "    np.seterr(all='ignore')\n",
    "    z = np.array(z) # In case not array\n",
    "    return 1/(1 + np.exp(-z))\n"
   ]
  },
  {
   "cell_type": "markdown",
   "metadata": {},
   "source": [
    "### Define Neural Network"
   ]
  },
  {
   "cell_type": "markdown",
   "metadata": {
    "collapsed": true
   },
   "source": [
    "We will use a standard NN with two hidden layers."
   ]
  },
  {
   "cell_type": "markdown",
   "metadata": {},
   "source": [
    "#### Hyper parameters:"
   ]
  },
  {
   "cell_type": "code",
   "execution_count": 118,
   "metadata": {},
   "outputs": [
    {
     "name": "stdout",
     "output_type": "stream",
     "text": [
      "784 60000\n"
     ]
    }
   ],
   "source": [
    "l = 100 # Number of nodes in hidden layers\n",
    "o = 10 # Number of nodes in output layer\n",
    "m = XTr.shape[1] # The number of training examples\n",
    "n = XTr.shape[0]-1 # The number features in input vectors excluding the bias\n",
    "print(n,m)"
   ]
  },
  {
   "cell_type": "markdown",
   "metadata": {},
   "source": [
    "#### Turn Y into a binary matrix"
   ]
  },
  {
   "cell_type": "code",
   "execution_count": 64,
   "metadata": {
    "scrolled": true
   },
   "outputs": [
    {
     "name": "stdout",
     "output_type": "stream",
     "text": [
      "    0    1    2    3    4    5    6    7    8    9    10\n",
      "0  5.0  0.0  0.0  0.0  0.0  0.0  1.0  0.0  0.0  0.0  0.0\n",
      "1  5.0  0.0  0.0  0.0  0.0  0.0  1.0  0.0  0.0  0.0  0.0\n",
      "2  3.0  0.0  0.0  0.0  1.0  0.0  0.0  0.0  0.0  0.0  0.0\n",
      "3  2.0  0.0  0.0  1.0  0.0  0.0  0.0  0.0  0.0  0.0  0.0\n",
      "4  1.0  0.0  1.0  0.0  0.0  0.0  0.0  0.0  0.0  0.0  0.0\n"
     ]
    }
   ],
   "source": [
    "YBTr = np.zeros((o,m))\n",
    "for i in range(m):\n",
    "    YBTr[YTr[0,i],i]=1\n",
    "\n",
    "S = np.concatenate((YTr, YBTr))\n",
    "S = np.transpose(S)\n",
    "print(pd.DataFrame(S).head())"
   ]
  },
  {
   "cell_type": "code",
   "execution_count": 65,
   "metadata": {},
   "outputs": [
    {
     "name": "stdout",
     "output_type": "stream",
     "text": [
      "[[5 5 3 ..., 3 8 0]]\n"
     ]
    }
   ],
   "source": [
    "print(YTr)"
   ]
  },
  {
   "cell_type": "markdown",
   "metadata": {},
   "source": [
    "#### Randomly initialize parameter metrices"
   ]
  },
  {
   "cell_type": "code",
   "execution_count": 66,
   "metadata": {
    "collapsed": true
   },
   "outputs": [],
   "source": [
    "def InitTheta():\n",
    "    eps1 = np.sqrt(2/n)\n",
    "    eps2 = np.sqrt(2/l)\n",
    "    Theta1 = np.random.randn(l,n+1)*eps1\n",
    "    Theta2 = np.random.randn(l,l+1)*eps2\n",
    "    Theta3 = np.random.randn(o,l+1)*eps2\n",
    "    return(Theta1, Theta2, Theta3)"
   ]
  },
  {
   "cell_type": "markdown",
   "metadata": {},
   "source": [
    "#### Time for some forward propagation"
   ]
  },
  {
   "cell_type": "code",
   "execution_count": 67,
   "metadata": {
    "collapsed": true
   },
   "outputs": [],
   "source": [
    "def ForwardProp(XTr, Theta1, Theta2, Theta3):\n",
    "    A1 = sigmoid(np.dot(Theta1, XTr))\n",
    "    A1 = np.insert(A1, 0 , 1, axis=0) # Add a row of ones (bias) a the top of the matrix\n",
    "    A2 = sigmoid(np.dot(Theta2, A1))\n",
    "    A2 = np.insert(A2, 0 , 1, axis=0) # Add a row of ones (bias) a the top of the matrix\n",
    "    H = sigmoid(np.dot(Theta3, A2))\n",
    "    \n",
    "    return(A1, A2, H)"
   ]
  },
  {
   "cell_type": "markdown",
   "metadata": {},
   "source": [
    "#### ... And now some BACKPROP!!"
   ]
  },
  {
   "cell_type": "code",
   "execution_count": 68,
   "metadata": {
    "collapsed": true
   },
   "outputs": [],
   "source": [
    "def BackProp(Theta1, Theta2, Theta3, H, A1, A2, XTr, YBTr):\n",
    "    mm = XTr.shape[1]\n",
    "    delta4 = H-YBTr\n",
    "    delta3 = (np.dot(np.transpose(Theta3), delta4)) * (A2*(1-A2))\n",
    "    delta3 = np.delete(delta3, 0, 0) #remove top layer\n",
    "    delta2 = (np.dot(np.transpose(Theta2), delta3)) * (A1*(1-A1))\n",
    "    delta2 = np.delete(delta2, 0, 0) #remove top layer\n",
    "    Gradient3 = (1/mm) * np.dot(delta4, np.transpose(A2))\n",
    "    Gradient2 = (1/mm) * np.dot(delta3, np.transpose(A1))\n",
    "    Gradient1 = (1/mm) * np.dot(delta2, np.transpose(XTr))\n",
    "    return(Gradient1, Gradient2, Gradient3)"
   ]
  },
  {
   "cell_type": "markdown",
   "metadata": {},
   "source": [
    "### Gradient descent:"
   ]
  },
  {
   "cell_type": "code",
   "execution_count": 135,
   "metadata": {
    "scrolled": true
   },
   "outputs": [
    {
     "data": {
      "image/png": "[encoded data removed]",
      "text/plain": [
       "<matplotlib.figure.Figure at 0x19331267f98>"
      ]
     },
     "metadata": {},
     "output_type": "display_data"
    }
   ],
   "source": [
    "[Theta1, Theta2, Theta3] = InitTheta()\n",
    "alpha = 0.015\n",
    "epoch = 200\n",
    "s = 100 # Size of minibatch\n",
    "ni = m/s # Number of iterations per minibatch\n",
    "J = []\n",
    "# k = 0\n",
    "xaxis = []\n",
    "plt.ion()\n",
    "for i in range(epoch):\n",
    "    for j in range(int(ni-1)):\n",
    "        X = XTr[:, s*j:s*(j+1)]\n",
    "        Y = YBTr[:, s*j:s*(j+1)]\n",
    "        [A1, A2, H] = ForwardProp(X, Theta1, Theta2, Theta3)\n",
    "        [Gradient1, Gradient2, Gradient3] = BackProp(Theta1, Theta2, Theta3, H, A1, A2, X, Y)\n",
    "        Theta1 = Theta1 - (alpha * Gradient1)\n",
    "        Theta2 = Theta2 - (alpha * Gradient2)\n",
    "        Theta3 = Theta3 - (alpha * Gradient3)\n",
    "    \n",
    "    [A1, A2, H] = ForwardProp(XTr, Theta1, Theta2, Theta3)    \n",
    "    J.append(-(1/m)*np.sum(YBTr * np.log(H))) #- (1-YBTr) * np.log(1-H)))       \n",
    "    xaxis.append(i)\n",
    "    plt.plot(xaxis,J)\n",
    "    display.display(plt.gcf())\n",
    "    display.clear_output(wait=True)\n",
    "    time.sleep(0.01)   "
   ]
  },
  {
   "cell_type": "markdown",
   "metadata": {
    "collapsed": true
   },
   "source": [
    "### Training accuracy"
   ]
  },
  {
   "cell_type": "code",
   "execution_count": 136,
   "metadata": {},
   "outputs": [
    {
     "name": "stdout",
     "output_type": "stream",
     "text": [
      "0.979066666667\n"
     ]
    }
   ],
   "source": [
    "[A1, A2, H] = ForwardProp(XTr, Theta1, Theta2, Theta3)\n",
    "Hest = np.argmax(H, axis = 0)\n",
    "acc = np.mean(Hest==YTr)\n",
    "print(acc)"
   ]
  },
  {
   "cell_type": "markdown",
   "metadata": {},
   "source": [
    "### Test accuracy"
   ]
  },
  {
   "cell_type": "code",
   "execution_count": 137,
   "metadata": {},
   "outputs": [
    {
     "name": "stdout",
     "output_type": "stream",
     "text": [
      "0.9649\n"
     ]
    }
   ],
   "source": [
    "[A1T, A2T, HT] = ForwardProp(XTe, Theta1, Theta2, Theta3)\n",
    "HestT = np.argmax(HT, axis = 0)\n",
    "accT = np.mean(HestT==YTe)\n",
    "print(accT)"
   ]
  },
  {
   "cell_type": "code",
   "execution_count": 125,
   "metadata": {
    "collapsed": true
   },
   "outputs": [],
   "source": [
    "pd.DataFrame(Theta1).to_pickle('Theta1.pickle')\n",
    "pd.DataFrame(Theta2).to_pickle('Theta2.pickle')\n",
    "pd.DataFrame(Theta3).to_pickle('Theta3.pickle')"
   ]
  },
  {
   "cell_type": "code",
   "execution_count": 18,
   "metadata": {
    "collapsed": true
   },
   "outputs": [],
   "source": [
    "#CM = np.concatenate((H, YBTr,))\n",
    "#CM = np.transpose(CM)\n",
    "#CM.shape"
   ]
  },
  {
   "cell_type": "code",
   "execution_count": 28,
   "metadata": {},
   "outputs": [
    {
     "name": "stdout",
     "output_type": "stream",
     "text": [
      "   0      1      2      3      4      5      6      7      8      9      \\\n",
      "0      5      0      4      1      9      2      1      3      1      4   \n",
      "\n",
      "   ...    59990  59991  59992  59993  59994  59995  59996  59997  59998  59999  \n",
      "0  ...        9      2      9      5      1      8      3      5      6      8  \n",
      "\n",
      "[1 rows x 60000 columns]\n"
     ]
    }
   ],
   "source": [
    "#print(pd.DataFrame(CM))\n",
    "#print(pd.DataFrame(YTr).head(100))"
   ]
  },
  {
   "cell_type": "code",
   "execution_count": 102,
   "metadata": {},
   "outputs": [
    {
     "data": {
      "text/plain": [
       "0.30422150018519395"
      ]
     },
     "execution_count": 102,
     "metadata": {},
     "output_type": "execute_result"
    }
   ],
   "source": [
    "J[-1]"
   ]
  },
  {
   "cell_type": "code",
   "execution_count": null,
   "metadata": {
    "collapsed": true
   },
   "outputs": [],
   "source": []
  }
 ],
 "metadata": {
  "kernelspec": {
   "display_name": "Python 3",
   "language": "python",
   "name": "python3"
  },
  "language_info": {
   "codemirror_mode": {
    "name": "ipython",
    "version": 3
   },
   "file_extension": ".py",
   "mimetype": "text/x-python",
   "name": "python",
   "nbconvert_exporter": "python",
   "pygments_lexer": "ipython3",
   "version": "3.6.1"
  }
 },
 "nbformat": 4,
 "nbformat_minor": 2
}
